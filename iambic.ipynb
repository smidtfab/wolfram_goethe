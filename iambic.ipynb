{
 "cells": [
  {
   "cell_type": "code",
   "execution_count": 1,
   "metadata": {},
   "outputs": [
    {
     "output_type": "stream",
     "name": "stderr",
     "text": "Using TensorFlow backend.\n"
    }
   ],
   "source": [
    "from big_phoney import BigPhoney\n",
    "import os"
   ]
  },
  {
   "cell_type": "code",
   "execution_count": 2,
   "metadata": {},
   "outputs": [],
   "source": [
    "def write_iambic(input_file, output_file):\n",
    "    for line in input_file.readlines():\n",
    "        syllables = phoney.count_syllables(line)\n",
    "        if (syllables >= 8) and (syllables <= 12):\n",
    "            output_file.write(line)"
   ]
  },
  {
   "cell_type": "code",
   "execution_count": 3,
   "metadata": {},
   "outputs": [],
   "source": [
    "# Initialization\n",
    "phoney = BigPhoney()\n",
    "output_file = open(\"outputs/iambic.txt\", \"a\")"
   ]
  },
  {
   "cell_type": "code",
   "execution_count": 4,
   "metadata": {},
   "outputs": [
    {
     "output_type": "stream",
     "name": "stdout",
     "text": "outputs/model_out.txt\n"
    }
   ],
   "source": [
    "filename = \"outputs/model_out.txt\"\n",
    "print(filename)\n",
    "input_file = open(filename, \"r+\")\n",
    "write_iambic(input_file, output_file)\n",
    "input_file.close()\n",
    "output_file.close()"
   ]
  }
 ],
 "metadata": {
  "language_info": {
   "codemirror_mode": {
    "name": "ipython",
    "version": 3
   },
   "file_extension": ".py",
   "mimetype": "text/x-python",
   "name": "python",
   "nbconvert_exporter": "python",
   "pygments_lexer": "ipython3",
   "version": "3.8.2-final"
  },
  "orig_nbformat": 2,
  "kernelspec": {
   "name": "python38264bitwgcondac15e493b545b42f4a3d80f5b756b304d",
   "display_name": "Python 3.8.2 64-bit ('WG': conda)"
  }
 },
 "nbformat": 4,
 "nbformat_minor": 2
}
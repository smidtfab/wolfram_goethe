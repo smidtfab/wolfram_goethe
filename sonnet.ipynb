{
 "cells": [
  {
   "cell_type": "code",
   "execution_count": 3,
   "metadata": {},
   "outputs": [
    {
     "output_type": "error",
     "ename": "KeyboardInterrupt",
     "evalue": "",
     "traceback": [
      "\u001b[0;31m---------------------------------------------------------------------------\u001b[0m",
      "\u001b[0;31mKeyboardInterrupt\u001b[0m                         Traceback (most recent call last)",
      "\u001b[0;32m<ipython-input-3-c8adc402e566>\u001b[0m in \u001b[0;36m<module>\u001b[0;34m\u001b[0m\n\u001b[1;32m     65\u001b[0m \u001b[0mNUM_SONNETS\u001b[0m \u001b[0;34m=\u001b[0m \u001b[0;36m50\u001b[0m\u001b[0;34m\u001b[0m\u001b[0;34m\u001b[0m\u001b[0m\n\u001b[1;32m     66\u001b[0m \u001b[0;32mfor\u001b[0m \u001b[0mi\u001b[0m \u001b[0;32min\u001b[0m \u001b[0mrange\u001b[0m\u001b[0;34m(\u001b[0m\u001b[0mNUM_SONNETS\u001b[0m\u001b[0;34m)\u001b[0m\u001b[0;34m:\u001b[0m\u001b[0;34m\u001b[0m\u001b[0;34m\u001b[0m\u001b[0m\n\u001b[0;32m---> 67\u001b[0;31m     \u001b[0msonnet\u001b[0m \u001b[0;34m=\u001b[0m \u001b[0mconv_sonnet\u001b[0m\u001b[0;34m(\u001b[0m\u001b[0mgenerate_sonnet\u001b[0m\u001b[0;34m(\u001b[0m\u001b[0mrhyme_dict\u001b[0m\u001b[0;34m)\u001b[0m\u001b[0;34m,\u001b[0m \u001b[0mline_dict\u001b[0m\u001b[0;34m)\u001b[0m\u001b[0;34m\u001b[0m\u001b[0;34m\u001b[0m\u001b[0m\n\u001b[0m\u001b[1;32m     68\u001b[0m     \u001b[0msonnet_file\u001b[0m\u001b[0;34m.\u001b[0m\u001b[0mwrite\u001b[0m\u001b[0;34m(\u001b[0m\u001b[0msonnet\u001b[0m\u001b[0;34m)\u001b[0m\u001b[0;34m\u001b[0m\u001b[0;34m\u001b[0m\u001b[0m\n\u001b[1;32m     69\u001b[0m     \u001b[0msonnet_file\u001b[0m\u001b[0;34m.\u001b[0m\u001b[0mwrite\u001b[0m\u001b[0;34m(\u001b[0m\u001b[0;34m\"\\n\"\u001b[0m\u001b[0;34m)\u001b[0m\u001b[0;34m\u001b[0m\u001b[0;34m\u001b[0m\u001b[0m\n",
      "\u001b[0;32m<ipython-input-3-c8adc402e566>\u001b[0m in \u001b[0;36mgenerate_sonnet\u001b[0;34m(rhymes)\u001b[0m\n\u001b[1;32m     22\u001b[0m \u001b[0;31m# Generate sonnet from 3 quatrains and a couplet\u001b[0m\u001b[0;34m\u001b[0m\u001b[0;34m\u001b[0m\u001b[0;34m\u001b[0m\u001b[0m\n\u001b[1;32m     23\u001b[0m \u001b[0;32mdef\u001b[0m \u001b[0mgenerate_sonnet\u001b[0m\u001b[0;34m(\u001b[0m\u001b[0mrhymes\u001b[0m\u001b[0;34m)\u001b[0m\u001b[0;34m:\u001b[0m\u001b[0;34m\u001b[0m\u001b[0;34m\u001b[0m\u001b[0m\n\u001b[0;32m---> 24\u001b[0;31m     \u001b[0ma\u001b[0m \u001b[0;34m=\u001b[0m \u001b[0mgenerate_quatrain\u001b[0m\u001b[0;34m(\u001b[0m\u001b[0mrhymes\u001b[0m\u001b[0;34m)\u001b[0m\u001b[0;34m\u001b[0m\u001b[0;34m\u001b[0m\u001b[0m\n\u001b[0m\u001b[1;32m     25\u001b[0m     \u001b[0mb\u001b[0m \u001b[0;34m=\u001b[0m \u001b[0mgenerate_quatrain\u001b[0m\u001b[0;34m(\u001b[0m\u001b[0mrhymes\u001b[0m\u001b[0;34m)\u001b[0m\u001b[0;34m\u001b[0m\u001b[0;34m\u001b[0m\u001b[0m\n\u001b[1;32m     26\u001b[0m     \u001b[0mc\u001b[0m \u001b[0;34m=\u001b[0m \u001b[0mgenerate_quatrain\u001b[0m\u001b[0;34m(\u001b[0m\u001b[0mrhymes\u001b[0m\u001b[0;34m)\u001b[0m\u001b[0;34m\u001b[0m\u001b[0;34m\u001b[0m\u001b[0m\n",
      "\u001b[0;32m<ipython-input-3-c8adc402e566>\u001b[0m in \u001b[0;36mgenerate_quatrain\u001b[0;34m(rhymes)\u001b[0m\n\u001b[1;32m     16\u001b[0m \u001b[0;31m# Generate quatrain from two interspliced couplets\u001b[0m\u001b[0;34m\u001b[0m\u001b[0;34m\u001b[0m\u001b[0;34m\u001b[0m\u001b[0m\n\u001b[1;32m     17\u001b[0m \u001b[0;32mdef\u001b[0m \u001b[0mgenerate_quatrain\u001b[0m\u001b[0;34m(\u001b[0m\u001b[0mrhymes\u001b[0m\u001b[0;34m)\u001b[0m\u001b[0;34m:\u001b[0m\u001b[0;34m\u001b[0m\u001b[0;34m\u001b[0m\u001b[0m\n\u001b[0;32m---> 18\u001b[0;31m     \u001b[0ma\u001b[0m \u001b[0;34m=\u001b[0m \u001b[0mgenerate_couplet\u001b[0m\u001b[0;34m(\u001b[0m\u001b[0mrhymes\u001b[0m\u001b[0;34m)\u001b[0m\u001b[0;34m\u001b[0m\u001b[0;34m\u001b[0m\u001b[0m\n\u001b[0m\u001b[1;32m     19\u001b[0m     \u001b[0mb\u001b[0m \u001b[0;34m=\u001b[0m \u001b[0mgenerate_couplet\u001b[0m\u001b[0;34m(\u001b[0m\u001b[0mrhymes\u001b[0m\u001b[0;34m)\u001b[0m\u001b[0;34m\u001b[0m\u001b[0;34m\u001b[0m\u001b[0m\n\u001b[1;32m     20\u001b[0m     \u001b[0;32mreturn\u001b[0m \u001b[0;34m[\u001b[0m\u001b[0ma\u001b[0m\u001b[0;34m[\u001b[0m\u001b[0;36m0\u001b[0m\u001b[0;34m]\u001b[0m\u001b[0;34m,\u001b[0m \u001b[0mb\u001b[0m\u001b[0;34m[\u001b[0m\u001b[0;36m0\u001b[0m\u001b[0;34m]\u001b[0m\u001b[0;34m,\u001b[0m \u001b[0ma\u001b[0m\u001b[0;34m[\u001b[0m\u001b[0;36m1\u001b[0m\u001b[0;34m]\u001b[0m\u001b[0;34m,\u001b[0m \u001b[0mb\u001b[0m\u001b[0;34m[\u001b[0m\u001b[0;36m1\u001b[0m\u001b[0;34m]\u001b[0m\u001b[0;34m]\u001b[0m\u001b[0;34m\u001b[0m\u001b[0;34m\u001b[0m\u001b[0m\n",
      "\u001b[0;32m<ipython-input-3-c8adc402e566>\u001b[0m in \u001b[0;36mgenerate_couplet\u001b[0;34m(rhymes)\u001b[0m\n\u001b[1;32m     10\u001b[0m     \u001b[0;32mwhile\u001b[0m \u001b[0;36m1\u001b[0m\u001b[0;34m:\u001b[0m\u001b[0;34m\u001b[0m\u001b[0;34m\u001b[0m\u001b[0m\n\u001b[1;32m     11\u001b[0m         \u001b[0mi\u001b[0m \u001b[0;34m=\u001b[0m \u001b[0mrandom\u001b[0m\u001b[0;34m.\u001b[0m\u001b[0mrandrange\u001b[0m\u001b[0;34m(\u001b[0m\u001b[0mlen\u001b[0m\u001b[0;34m(\u001b[0m\u001b[0mrhymes\u001b[0m\u001b[0;34m.\u001b[0m\u001b[0mkeys\u001b[0m\u001b[0;34m(\u001b[0m\u001b[0;34m)\u001b[0m\u001b[0;34m)\u001b[0m\u001b[0;34m)\u001b[0m\u001b[0;34m\u001b[0m\u001b[0;34m\u001b[0m\u001b[0m\n\u001b[0;32m---> 12\u001b[0;31m         \u001b[0;32mif\u001b[0m \u001b[0mlen\u001b[0m\u001b[0;34m(\u001b[0m\u001b[0mrhymes\u001b[0m\u001b[0;34m[\u001b[0m\u001b[0mi\u001b[0m\u001b[0;34m]\u001b[0m\u001b[0;34m)\u001b[0m \u001b[0;34m>=\u001b[0m \u001b[0;36m1\u001b[0m\u001b[0;34m:\u001b[0m\u001b[0;34m\u001b[0m\u001b[0;34m\u001b[0m\u001b[0m\n\u001b[0m\u001b[1;32m     13\u001b[0m             \u001b[0mpool\u001b[0m \u001b[0;34m=\u001b[0m \u001b[0mrhymes\u001b[0m\u001b[0;34m[\u001b[0m\u001b[0mi\u001b[0m\u001b[0;34m]\u001b[0m \u001b[0;34m+\u001b[0m \u001b[0;34m[\u001b[0m\u001b[0mi\u001b[0m\u001b[0;34m]\u001b[0m\u001b[0;34m\u001b[0m\u001b[0;34m\u001b[0m\u001b[0m\n\u001b[1;32m     14\u001b[0m             \u001b[0;32mreturn\u001b[0m \u001b[0mrandom\u001b[0m\u001b[0;34m.\u001b[0m\u001b[0msample\u001b[0m\u001b[0;34m(\u001b[0m\u001b[0mset\u001b[0m\u001b[0;34m(\u001b[0m\u001b[0mpool\u001b[0m\u001b[0;34m)\u001b[0m\u001b[0;34m,\u001b[0m \u001b[0;36m2\u001b[0m\u001b[0;34m)\u001b[0m\u001b[0;34m\u001b[0m\u001b[0;34m\u001b[0m\u001b[0m\n",
      "\u001b[0;31mKeyboardInterrupt\u001b[0m: "
     ]
    }
   ],
   "source": [
    "\"\"\" Sonnet\n",
    "Generate rhyming shakespearean sonnets from a file of 10-syllable phrases.\n",
    "\"\"\"\n",
    "import re\n",
    "import pronouncing\n",
    "import random\n",
    "\n",
    "# Generate rhyming couplet\n",
    "def generate_couplet(rhymes):\n",
    "    while 1:\n",
    "        i = random.randrange(len(rhymes.keys()))\n",
    "        if len(rhymes[i]) >= 1:\n",
    "            pool = rhymes[i] + [i]\n",
    "            return random.sample(set(pool), 2)\n",
    "\n",
    "# Generate quatrain from two interspliced couplets\n",
    "def generate_quatrain(rhymes):\n",
    "    a = generate_couplet(rhymes)\n",
    "    b = generate_couplet(rhymes)\n",
    "    return [a[0], b[0], a[1], b[1]]\n",
    "\n",
    "# Generate sonnet from 3 quatrains and a couplet\n",
    "def generate_sonnet(rhymes):\n",
    "    a = generate_quatrain(rhymes)\n",
    "    b = generate_quatrain(rhymes)\n",
    "    c = generate_quatrain(rhymes)\n",
    "    d = generate_couplet(rhymes)\n",
    "    return a + b + c + d\n",
    "\n",
    "# Convert sonnet from index array to string\n",
    "def conv_sonnet(indices, line_dict):\n",
    "    sonnet = \"\"\n",
    "    for i in indices:\n",
    "        sonnet += line_dict[i] + \"\\n\"\n",
    "    return sonnet\n",
    "\n",
    "# Get lines from iambic file\n",
    "iambic_lines = open(\"outputs/iambic.txt\", \"r\")\n",
    "lines = [line.strip() for line in iambic_lines.readlines()]\n",
    "\n",
    "# Array of final word of each line\n",
    "final_words = [re.sub(r'[^\\w\\s]', '', line.split(\" \")[-1]) for line in lines]\n",
    "\n",
    "# Enumerated dictionaries\n",
    "line_dict = {i:w for i, w in enumerate(lines)}\n",
    "word_dict = {i:w for i, w in enumerate(final_words)}\n",
    "\n",
    "# Rhyming indices\n",
    "# { 0 : [1, 2, 3] } means that line 0 rhymes with lines 1, 2, 3\n",
    "rhyme_dict = {}\n",
    "\n",
    "for i, word1 in word_dict.items():\n",
    "    # Get potential rhymes from pronouncing package\n",
    "    potential_rhymes = pronouncing.rhymes(word1)\n",
    "    rhymes = []\n",
    "    for x, word2 in word_dict.items():\n",
    "        # Disallow rhyming with self or same word\n",
    "        if word1 != word2:\n",
    "            if word2 in potential_rhymes:\n",
    "                rhymes.append(x)\n",
    "    rhyme_dict[i] = rhymes\n",
    "\n",
    "# Write generated sonnets to text file\n",
    "sonnet_file = open(\"outputs/sonnets.txt\", \"w+\")\n",
    "NUM_SONNETS = 50\n",
    "for i in range(NUM_SONNETS):\n",
    "    sonnet = conv_sonnet(generate_sonnet(rhyme_dict), line_dict)\n",
    "    sonnet_file.write(sonnet)\n",
    "    sonnet_file.write(\"\\n\")\n",
    "sonnet_file.close()"
   ]
  }
 ],
 "metadata": {
  "language_info": {
   "codemirror_mode": {
    "name": "ipython",
    "version": 3
   },
   "file_extension": ".py",
   "mimetype": "text/x-python",
   "name": "python",
   "nbconvert_exporter": "python",
   "pygments_lexer": "ipython3",
   "version": "3.8.2-final"
  },
  "orig_nbformat": 2,
  "kernelspec": {
   "name": "python38264bitnsconda5906bd2dc1be4fac85b3821c63f25579",
   "display_name": "Python 3.8.2 64-bit ('NS': conda)"
  }
 },
 "nbformat": 4,
 "nbformat_minor": 2
}
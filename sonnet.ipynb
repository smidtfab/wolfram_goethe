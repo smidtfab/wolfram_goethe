{
 "cells": [
  {
   "cell_type": "code",
   "execution_count": 12,
   "metadata": {},
   "outputs": [],
   "source": [
    "\"\"\" Sonnet\n",
    "Generate rhyming shakespearean sonnets from a file of 10-syllable phrases.\n",
    "\"\"\"\n",
    "import re\n",
    "import random\n",
    "import pyrhyme"
   ]
  },
  {
   "cell_type": "code",
   "execution_count": 13,
   "metadata": {},
   "outputs": [],
   "source": [
    "# Generate rhyming couplet\n",
    "def generate_couplet(rhymes):\n",
    "    while 1:\n",
    "        i = random.randrange(len(rhymes.keys()))\n",
    "        if len(rhymes[i]) >= 1:\n",
    "            pool = rhymes[i] + [i]\n",
    "            return random.sample(set(pool), 2)\n",
    "\n",
    "# Generate quatrain from two interspliced couplets\n",
    "def generate_quatrain(rhymes):\n",
    "    a = generate_couplet(rhymes)\n",
    "    b = generate_couplet(rhymes)\n",
    "    return [a[0], b[0], a[1], b[1]]\n",
    "\n",
    "# Generate sonnet from 3 quatrains and a couplet\n",
    "def generate_sonnet(rhymes):\n",
    "    a = generate_quatrain(rhymes)\n",
    "    b = generate_quatrain(rhymes)\n",
    "    c = generate_quatrain(rhymes)\n",
    "    d = generate_couplet(rhymes)\n",
    "    return a + b + c + d\n",
    "\n",
    "# Convert sonnet from index array to string\n",
    "def conv_sonnet(indices, line_dict):\n",
    "    sonnet = \"\"\n",
    "    for i in indices:\n",
    "        sonnet += line_dict[i] + \"\\n\"\n",
    "    return sonnet"
   ]
  },
  {
   "cell_type": "code",
   "execution_count": 14,
   "metadata": {},
   "outputs": [],
   "source": [
    "# Get lines from iambic file\n",
    "iambic_lines = open(\"outputs/iambic.txt\", \"r\")\n",
    "lines = [line.strip() for line in iambic_lines.readlines()]\n",
    "\n"
   ]
  },
  {
   "cell_type": "code",
   "execution_count": 15,
   "metadata": {},
   "outputs": [],
   "source": [
    "# Array of final word of each line\n",
    "final_words = [re.sub(r'[^\\w\\s]', '', line.split(\" \")[-1]) for line in lines]"
   ]
  },
  {
   "cell_type": "code",
   "execution_count": 16,
   "metadata": {},
   "outputs": [],
   "source": [
    "# Enumerated dictionaries\n",
    "line_dict = {i:w for i, w in enumerate(lines)}\n",
    "word_dict = {i:w for i, w in enumerate(final_words)}"
   ]
  },
  {
   "cell_type": "code",
   "execution_count": 17,
   "metadata": {},
   "outputs": [],
   "source": [
    "'''\n",
    "return list of possible rhymes ordered by score\n",
    "'''\n",
    "def retrieve_rhymes(word):\n",
    "    rb = pyrhyme.RhymeBrain()\n",
    "    rhymes = []\n",
    "    for obt in rb.rhyming_list(word=word, lang=\"de\", maxResults=48):\n",
    "        #print(obt[\"word\"])\n",
    "        #print(obt[\"score\"])\n",
    "        #print(obt.freq)\n",
    "        rhymes.append(obt[\"word\"])\n",
    "    return rhymes"
   ]
  },
  {
   "cell_type": "code",
   "execution_count": 18,
   "metadata": {},
   "outputs": [
    {
     "output_type": "stream",
     "name": "stdout",
     "text": "{'function': 'getRhymes', 'word': 'Dorf', 'lang': 'de', 'maxResults': 45}\nhttps://rhymebrain.com/talk?function=getRhymes&word=Dorf&lang=de&maxResults=45\n"
    },
    {
     "output_type": "execute_result",
     "data": {
      "text/plain": "['Torf',\n 'Morph',\n 'amorph',\n 'Angerdorf',\n 'isomorph',\n 'Allomorph',\n 'Fischerdorf',\n 'Neuendorf',\n 'Reihendorf',\n 'anthropomorph',\n 'forsch',\n 'morsch',\n 'horch',\n 'toff',\n 'hoff',\n 'soff',\n 'schroff',\n 'doch',\n 'noch',\n 'trotz',\n 'roch',\n 'goss',\n 'rotz',\n 'kotz',\n 'jedoch',\n 'stolz',\n 'schloss',\n 'glotz',\n 'kross',\n 'beschloss',\n 'paradox',\n 'orthodox',\n 'vielerorts',\n 'andernorts',\n 'durchfloss',\n 'mancherorts',\n 'manchenorts',\n 'nichtsdestotrotz',\n 'durch',\n 'uff',\n 'doof',\n 'tupf',\n 'dumpf',\n 'muff',\n 'stumpf']"
     },
     "metadata": {},
     "execution_count": 18
    }
   ],
   "source": [
    "retrieve_rhymes(\"Dorf\")"
   ]
  },
  {
   "cell_type": "code",
   "execution_count": 19,
   "metadata": {
    "tags": [
     "outputPrepend",
     "outputPrepend",
     "outputPrepend",
     "outputPrepend",
     "outputPrepend",
     "outputPrepend",
     "outputPrepend",
     "outputPrepend",
     "outputPrepend",
     "outputPrepend",
     "outputPrepend",
     "outputPrepend",
     "outputPrepend",
     "outputPrepend",
     "outputPrepend",
     "outputPrepend",
     "outputPrepend",
     "outputPrepend",
     "outputPrepend",
     "outputPrepend",
     "outputPrepend",
     "outputPrepend",
     "outputPrepend",
     "outputPrepend",
     "outputPrepend",
     "outputPrepend",
     "outputPrepend",
     "outputPrepend",
     "outputPrepend",
     "outputPrepend",
     "outputPrepend",
     "outputPrepend",
     "outputPrepend",
     "outputPrepend",
     "outputPrepend",
     "outputPrepend",
     "outputPrepend",
     "outputPrepend",
     "outputPrepend",
     "outputPrepend",
     "outputPrepend",
     "outputPrepend",
     "outputPrepend",
     "outputPrepend",
     "outputPrepend",
     "outputPrepend",
     "outputPrepend",
     "outputPrepend",
     "outputPrepend",
     "outputPrepend",
     "outputPrepend",
     "outputPrepend",
     "outputPrepend"
    ]
   },
   "outputs": [
    {
     "output_type": "stream",
     "name": "stdout",
     "text": "in.com/talk?function=getRhymes&word=Heer&lang=de&maxResults=45\n{'function': 'getRhymes', 'word': 'hier', 'lang': 'de', 'maxResults': 45}\nhttps://rhymebrain.com/talk?function=getRhymes&word=hier&lang=de&maxResults=45\n{'function': 'getRhymes', 'word': 'bedarf', 'lang': 'de', 'maxResults': 45}\nhttps://rhymebrain.com/talk?function=getRhymes&word=bedarf&lang=de&maxResults=45\n{'function': 'getRhymes', 'word': 'gedopft', 'lang': 'de', 'maxResults': 45}\nhttps://rhymebrain.com/talk?function=getRhymes&word=gedopft&lang=de&maxResults=45\n{'function': 'getRhymes', 'word': 'weich', 'lang': 'de', 'maxResults': 45}\nhttps://rhymebrain.com/talk?function=getRhymes&word=weich&lang=de&maxResults=45\n{'function': 'getRhymes', 'word': 'lebt', 'lang': 'de', 'maxResults': 45}\nhttps://rhymebrain.com/talk?function=getRhymes&word=lebt&lang=de&maxResults=45\n{'function': 'getRhymes', 'word': 'auf', 'lang': 'de', 'maxResults': 45}\nhttps://rhymebrain.com/talk?function=getRhymes&word=auf&lang=de&maxResults=45\n{'function': 'getRhymes', 'word': 'Sachen', 'lang': 'de', 'maxResults': 45}\nhttps://rhymebrain.com/talk?function=getRhymes&word=Sachen&lang=de&maxResults=45\n{'function': 'getRhymes', 'word': 'dreisammen', 'lang': 'de', 'maxResults': 45}\nhttps://rhymebrain.com/talk?function=getRhymes&word=dreisammen&lang=de&maxResults=45\n{'function': 'getRhymes', 'word': 'vernommen', 'lang': 'de', 'maxResults': 45}\nhttps://rhymebrain.com/talk?function=getRhymes&word=vernommen&lang=de&maxResults=45\n{'function': 'getRhymes', 'word': 'reichen', 'lang': 'de', 'maxResults': 45}\nhttps://rhymebrain.com/talk?function=getRhymes&word=reichen&lang=de&maxResults=45\n{'function': 'getRhymes', 'word': 'fort', 'lang': 'de', 'maxResults': 45}\nhttps://rhymebrain.com/talk?function=getRhymes&word=fort&lang=de&maxResults=45\n{'function': 'getRhymes', 'word': 'Gedränge', 'lang': 'de', 'maxResults': 45}\nhttps://rhymebrain.com/talk?function=getRhymes&word=Gedr%C3%A4nge&lang=de&maxResults=45\n{'function': 'getRhymes', 'word': 'Gewunden', 'lang': 'de', 'maxResults': 45}\nhttps://rhymebrain.com/talk?function=getRhymes&word=Gewunden&lang=de&maxResults=45\n{'function': 'getRhymes', 'word': 'schlägt', 'lang': 'de', 'maxResults': 45}\nhttps://rhymebrain.com/talk?function=getRhymes&word=schl%C3%A4gt&lang=de&maxResults=45\n{'function': 'getRhymes', 'word': 'Spaten', 'lang': 'de', 'maxResults': 45}\nhttps://rhymebrain.com/talk?function=getRhymes&word=Spaten&lang=de&maxResults=45\n{'function': 'getRhymes', 'word': 'neigst', 'lang': 'de', 'maxResults': 45}\nhttps://rhymebrain.com/talk?function=getRhymes&word=neigst&lang=de&maxResults=45\n{'function': 'getRhymes', 'word': 'Reihen', 'lang': 'de', 'maxResults': 45}\nhttps://rhymebrain.com/talk?function=getRhymes&word=Reihen&lang=de&maxResults=45\n{'function': 'getRhymes', 'word': 'angezogen', 'lang': 'de', 'maxResults': 45}\nhttps://rhymebrain.com/talk?function=getRhymes&word=angezogen&lang=de&maxResults=45\n{'function': 'getRhymes', 'word': 'Possenpraft', 'lang': 'de', 'maxResults': 45}\nhttps://rhymebrain.com/talk?function=getRhymes&word=Possenpraft&lang=de&maxResults=45\n{'function': 'getRhymes', 'word': 'Tätigkeit', 'lang': 'de', 'maxResults': 45}\nhttps://rhymebrain.com/talk?function=getRhymes&word=T%C3%A4tigkeit&lang=de&maxResults=45\n{'function': 'getRhymes', 'word': 'böre', 'lang': 'de', 'maxResults': 45}\nhttps://rhymebrain.com/talk?function=getRhymes&word=b%C3%B6re&lang=de&maxResults=45\n{'function': 'getRhymes', 'word': 'bilden', 'lang': 'de', 'maxResults': 45}\nhttps://rhymebrain.com/talk?function=getRhymes&word=bilden&lang=de&maxResults=45\n{'function': 'getRhymes', 'word': 'Schuldnaffen', 'lang': 'de', 'maxResults': 45}\nhttps://rhymebrain.com/talk?function=getRhymes&word=Schuldnaffen&lang=de&maxResults=45\n{'function': 'getRhymes', 'word': 'beglückt', 'lang': 'de', 'maxResults': 45}\nhttps://rhymebrain.com/talk?function=getRhymes&word=begl%C3%BCckt&lang=de&maxResults=45\n{'function': 'getRhymes', 'word': 'fasen', 'lang': 'de', 'maxResults': 45}\nhttps://rhymebrain.com/talk?function=getRhymes&word=fasen&lang=de&maxResults=45\n{'function': 'getRhymes', 'word': 'recht', 'lang': 'de', 'maxResults': 45}\nhttps://rhymebrain.com/talk?function=getRhymes&word=recht&lang=de&maxResults=45\n{'function': 'getRhymes', 'word': 'groß', 'lang': 'de', 'maxResults': 45}\nhttps://rhymebrain.com/talk?function=getRhymes&word=gro%C3%9F&lang=de&maxResults=45\n{'function': 'getRhymes', 'word': 'Kochgeführt', 'lang': 'de', 'maxResults': 45}\nhttps://rhymebrain.com/talk?function=getRhymes&word=Kochgef%C3%BChrt&lang=de&maxResults=45\n{'function': 'getRhymes', 'word': 'Glieder', 'lang': 'de', 'maxResults': 45}\nhttps://rhymebrain.com/talk?function=getRhymes&word=Glieder&lang=de&maxResults=45\n{'function': 'getRhymes', 'word': 'hier', 'lang': 'de', 'maxResults': 45}\nhttps://rhymebrain.com/talk?function=getRhymes&word=hier&lang=de&maxResults=45\n{'function': 'getRhymes', 'word': 'verborgen', 'lang': 'de', 'maxResults': 45}\nhttps://rhymebrain.com/talk?function=getRhymes&word=verborgen&lang=de&maxResults=45\n{'function': 'getRhymes', 'word': 'nehmen', 'lang': 'de', 'maxResults': 45}\nhttps://rhymebrain.com/talk?function=getRhymes&word=nehmen&lang=de&maxResults=45\n{'function': 'getRhymes', 'word': 'zerstückeln', 'lang': 'de', 'maxResults': 45}\nhttps://rhymebrain.com/talk?function=getRhymes&word=zerst%C3%BCckeln&lang=de&maxResults=45\n{'function': 'getRhymes', 'word': 'hingegeben', 'lang': 'de', 'maxResults': 45}\nhttps://rhymebrain.com/talk?function=getRhymes&word=hingegeben&lang=de&maxResults=45\n{'function': 'getRhymes', 'word': 'Sohnesgleiche', 'lang': 'de', 'maxResults': 45}\nhttps://rhymebrain.com/talk?function=getRhymes&word=Sohnesgleiche&lang=de&maxResults=45\n{'function': 'getRhymes', 'word': 'Gebein', 'lang': 'de', 'maxResults': 45}\nhttps://rhymebrain.com/talk?function=getRhymes&word=Gebein&lang=de&maxResults=45\n{'function': 'getRhymes', 'word': 'schlaf', 'lang': 'de', 'maxResults': 45}\nhttps://rhymebrain.com/talk?function=getRhymes&word=schlaf&lang=de&maxResults=45\n{'function': 'getRhymes', 'word': 'entrückt', 'lang': 'de', 'maxResults': 45}\nhttps://rhymebrain.com/talk?function=getRhymes&word=entr%C3%BCckt&lang=de&maxResults=45\n{'function': 'getRhymes', 'word': 'gehn', 'lang': 'de', 'maxResults': 45}\nhttps://rhymebrain.com/talk?function=getRhymes&word=gehn&lang=de&maxResults=45\n{'function': 'getRhymes', 'word': 'Sitzen', 'lang': 'de', 'maxResults': 45}\nhttps://rhymebrain.com/talk?function=getRhymes&word=Sitzen&lang=de&maxResults=45\n{'function': 'getRhymes', 'word': 'vermessen', 'lang': 'de', 'maxResults': 45}\nhttps://rhymebrain.com/talk?function=getRhymes&word=vermessen&lang=de&maxResults=45\n{'function': 'getRhymes', 'word': 'wider', 'lang': 'de', 'maxResults': 45}\nhttps://rhymebrain.com/talk?function=getRhymes&word=wider&lang=de&maxResults=45\n{'function': 'getRhymes', 'word': 'Herz', 'lang': 'de', 'maxResults': 45}\nhttps://rhymebrain.com/talk?function=getRhymes&word=Herz&lang=de&maxResults=45\n{'function': 'getRhymes', 'word': 'sich', 'lang': 'de', 'maxResults': 45}\nhttps://rhymebrain.com/talk?function=getRhymes&word=sich&lang=de&maxResults=45\n{'function': 'getRhymes', 'word': 'bereit', 'lang': 'de', 'maxResults': 45}\nhttps://rhymebrain.com/talk?function=getRhymes&word=bereit&lang=de&maxResults=45\n{'function': 'getRhymes', 'word': 'Mitternacht', 'lang': 'de', 'maxResults': 45}\nhttps://rhymebrain.com/talk?function=getRhymes&word=Mitternacht&lang=de&maxResults=45\n{'function': 'getRhymes', 'word': 'bereit', 'lang': 'de', 'maxResults': 45}\nhttps://rhymebrain.com/talk?function=getRhymes&word=bereit&lang=de&maxResults=45\n{'function': 'getRhymes', 'word': 'errei', 'lang': 'de', 'maxResults': 45}\nhttps://rhymebrain.com/talk?function=getRhymes&word=errei&lang=de&maxResults=45\n{'function': 'getRhymes', 'word': 'einmal', 'lang': 'de', 'maxResults': 45}\nhttps://rhymebrain.com/talk?function=getRhymes&word=einmal&lang=de&maxResults=45\n{'function': 'getRhymes', 'word': 'allen', 'lang': 'de', 'maxResults': 45}\nhttps://rhymebrain.com/talk?function=getRhymes&word=allen&lang=de&maxResults=45\n{'function': 'getRhymes', 'word': 'Lohn', 'lang': 'de', 'maxResults': 45}\nhttps://rhymebrain.com/talk?function=getRhymes&word=Lohn&lang=de&maxResults=45\n{'function': 'getRhymes', 'word': 'kann', 'lang': 'de', 'maxResults': 45}\nhttps://rhymebrain.com/talk?function=getRhymes&word=kann&lang=de&maxResults=45\n{'function': 'getRhymes', 'word': 'Spaße', 'lang': 'de', 'maxResults': 45}\nhttps://rhymebrain.com/talk?function=getRhymes&word=Spa%C3%9Fe&lang=de&maxResults=45\n{'function': 'getRhymes', 'word': 'schlüpft', 'lang': 'de', 'maxResults': 45}\nhttps://rhymebrain.com/talk?function=getRhymes&word=schl%C3%BCpft&lang=de&maxResults=45\n{'function': 'getRhymes', 'word': 'Gesichten', 'lang': 'de', 'maxResults': 45}\nhttps://rhymebrain.com/talk?function=getRhymes&word=Gesichten&lang=de&maxResults=45\n{'function': 'getRhymes', 'word': 'soll', 'lang': 'de', 'maxResults': 45}\nhttps://rhymebrain.com/talk?function=getRhymes&word=soll&lang=de&maxResults=45\n{'function': 'getRhymes', 'word': 'Nacht', 'lang': 'de', 'maxResults': 45}\nhttps://rhymebrain.com/talk?function=getRhymes&word=Nacht&lang=de&maxResults=45\n{'function': 'getRhymes', 'word': 'auf', 'lang': 'de', 'maxResults': 45}\nhttps://rhymebrain.com/talk?function=getRhymes&word=auf&lang=de&maxResults=45\n{'function': 'getRhymes', 'word': 'trägt', 'lang': 'de', 'maxResults': 45}\nhttps://rhymebrain.com/talk?function=getRhymes&word=tr%C3%A4gt&lang=de&maxResults=45\n{'function': 'getRhymes', 'word': 'Lohn', 'lang': 'de', 'maxResults': 45}\nhttps://rhymebrain.com/talk?function=getRhymes&word=Lohn&lang=de&maxResults=45\n{'function': 'getRhymes', 'word': 'Heer', 'lang': 'de', 'maxResults': 45}\nhttps://rhymebrain.com/talk?function=getRhymes&word=Heer&lang=de&maxResults=45\n{'function': 'getRhymes', 'word': 'geschehn', 'lang': 'de', 'maxResults': 45}\nhttps://rhymebrain.com/talk?function=getRhymes&word=geschehn&lang=de&maxResults=45\n{'function': 'getRhymes', 'word': 'frei', 'lang': 'de', 'maxResults': 45}\nhttps://rhymebrain.com/talk?function=getRhymes&word=frei&lang=de&maxResults=45\n{'function': 'getRhymes', 'word': 'benstig', 'lang': 'de', 'maxResults': 45}\nhttps://rhymebrain.com/talk?function=getRhymes&word=benstig&lang=de&maxResults=45\n{'function': 'getRhymes', 'word': 'ballt', 'lang': 'de', 'maxResults': 45}\nhttps://rhymebrain.com/talk?function=getRhymes&word=ballt&lang=de&maxResults=45\n{'function': 'getRhymes', 'word': 'hier', 'lang': 'de', 'maxResults': 45}\nhttps://rhymebrain.com/talk?function=getRhymes&word=hier&lang=de&maxResults=45\n{'function': 'getRhymes', 'word': 'Bechgeschehn', 'lang': 'de', 'maxResults': 45}\nhttps://rhymebrain.com/talk?function=getRhymes&word=Bechgeschehn&lang=de&maxResults=45\n{'function': 'getRhymes', 'word': 'bedarf', 'lang': 'de', 'maxResults': 45}\nhttps://rhymebrain.com/talk?function=getRhymes&word=bedarf&lang=de&maxResults=45\n{'function': 'getRhymes', 'word': 'Lauf', 'lang': 'de', 'maxResults': 45}\nhttps://rhymebrain.com/talk?function=getRhymes&word=Lauf&lang=de&maxResults=45\n{'function': 'getRhymes', 'word': 'Grenzen', 'lang': 'de', 'maxResults': 45}\nhttps://rhymebrain.com/talk?function=getRhymes&word=Grenzen&lang=de&maxResults=45\n{'function': 'getRhymes', 'word': 'überstreicheite', 'lang': 'de', 'maxResults': 45}\nhttps://rhymebrain.com/talk?function=getRhymes&word=%C3%BCberstreicheite&lang=de&maxResults=45\n{'function': 'getRhymes', 'word': 'unvorschreiben', 'lang': 'de', 'maxResults': 45}\nhttps://rhymebrain.com/talk?function=getRhymes&word=unvorschreiben&lang=de&maxResults=45\n{'function': 'getRhymes', 'word': 'Glück', 'lang': 'de', 'maxResults': 45}\nhttps://rhymebrain.com/talk?function=getRhymes&word=Gl%C3%BCck&lang=de&maxResults=45\n{'function': 'getRhymes', 'word': 'rühmen', 'lang': 'de', 'maxResults': 45}\nhttps://rhymebrain.com/talk?function=getRhymes&word=r%C3%BChmen&lang=de&maxResults=45\n{'function': 'getRhymes', 'word': 'erschrecken', 'lang': 'de', 'maxResults': 45}\nhttps://rhymebrain.com/talk?function=getRhymes&word=erschrecken&lang=de&maxResults=45\n{'function': 'getRhymes', 'word': 'Heldenschlug', 'lang': 'de', 'maxResults': 45}\nhttps://rhymebrain.com/talk?function=getRhymes&word=Heldenschlug&lang=de&maxResults=45\n{'function': 'getRhymes', 'word': 'allein', 'lang': 'de', 'maxResults': 45}\nhttps://rhymebrain.com/talk?function=getRhymes&word=allein&lang=de&maxResults=45\n{'function': 'getRhymes', 'word': 'gedopft', 'lang': 'de', 'maxResults': 45}\nhttps://rhymebrain.com/talk?function=getRhymes&word=gedopft&lang=de&maxResults=45\n{'function': 'getRhymes', 'word': 'geht', 'lang': 'de', 'maxResults': 45}\nhttps://rhymebrain.com/talk?function=getRhymes&word=geht&lang=de&maxResults=45\n{'function': 'getRhymes', 'word': 'weich', 'lang': 'de', 'maxResults': 45}\nhttps://rhymebrain.com/talk?function=getRhymes&word=weich&lang=de&maxResults=45\n{'function': 'getRhymes', 'word': 'lebt', 'lang': 'de', 'maxResults': 45}\nhttps://rhymebrain.com/talk?function=getRhymes&word=lebt&lang=de&maxResults=45\n{'function': 'getRhymes', 'word': 'Stufen', 'lang': 'de', 'maxResults': 45}\nhttps://rhymebrain.com/talk?function=getRhymes&word=Stufen&lang=de&maxResults=45\n{'function': 'getRhymes', 'word': 'auf', 'lang': 'de', 'maxResults': 45}\nhttps://rhymebrain.com/talk?function=getRhymes&word=auf&lang=de&maxResults=45\n{'function': 'getRhymes', 'word': 'Phantast', 'lang': 'de', 'maxResults': 45}\nhttps://rhymebrain.com/talk?function=getRhymes&word=Phantast&lang=de&maxResults=45\n{'function': 'getRhymes', 'word': 'Mauern', 'lang': 'de', 'maxResults': 45}\nhttps://rhymebrain.com/talk?function=getRhymes&word=Mauern&lang=de&maxResults=45\n{'function': 'getRhymes', 'word': 'denn', 'lang': 'de', 'maxResults': 45}\nhttps://rhymebrain.com/talk?function=getRhymes&word=denn&lang=de&maxResults=45\n{'function': 'getRhymes', 'word': 'soll', 'lang': 'de', 'maxResults': 45}\nhttps://rhymebrain.com/talk?function=getRhymes&word=soll&lang=de&maxResults=45\n{'function': 'getRhymes', 'word': 'Gesicht', 'lang': 'de', 'maxResults': 45}\nhttps://rhymebrain.com/talk?function=getRhymes&word=Gesicht&lang=de&maxResults=45\n{'function': 'getRhymes', 'word': 'Sachen', 'lang': 'de', 'maxResults': 45}\nhttps://rhymebrain.com/talk?function=getRhymes&word=Sachen&lang=de&maxResults=45\n{'function': 'getRhymes', 'word': 'ein', 'lang': 'de', 'maxResults': 45}\nhttps://rhymebrain.com/talk?function=getRhymes&word=ein&lang=de&maxResults=45\n{'function': 'getRhymes', 'word': 'weiten', 'lang': 'de', 'maxResults': 45}\nhttps://rhymebrain.com/talk?function=getRhymes&word=weiten&lang=de&maxResults=45\n{'function': 'getRhymes', 'word': 'tut', 'lang': 'de', 'maxResults': 45}\nhttps://rhymebrain.com/talk?function=getRhymes&word=tut&lang=de&maxResults=45\n{'function': 'getRhymes', 'word': 'gibt', 'lang': 'de', 'maxResults': 45}\nhttps://rhymebrain.com/talk?function=getRhymes&word=gibt&lang=de&maxResults=45\n{'function': 'getRhymes', 'word': 'dreisammen', 'lang': 'de', 'maxResults': 45}\nhttps://rhymebrain.com/talk?function=getRhymes&word=dreisammen&lang=de&maxResults=45\n{'function': 'getRhymes', 'word': 'drein', 'lang': 'de', 'maxResults': 45}\nhttps://rhymebrain.com/talk?function=getRhymes&word=drein&lang=de&maxResults=45\n{'function': 'getRhymes', 'word': 'vernommen', 'lang': 'de', 'maxResults': 45}\nhttps://rhymebrain.com/talk?function=getRhymes&word=vernommen&lang=de&maxResults=45\n{'function': 'getRhymes', 'word': 'Ketten', 'lang': 'de', 'maxResults': 45}\nhttps://rhymebrain.com/talk?function=getRhymes&word=Ketten&lang=de&maxResults=45\n{'function': 'getRhymes', 'word': 'Feuer', 'lang': 'de', 'maxResults': 45}\nhttps://rhymebrain.com/talk?function=getRhymes&word=Feuer&lang=de&maxResults=45\n{'function': 'getRhymes', 'word': 'reichen', 'lang': 'de', 'maxResults': 45}\nhttps://rhymebrain.com/talk?function=getRhymes&word=reichen&lang=de&maxResults=45\n{'function': 'getRhymes', 'word': 'Recht', 'lang': 'de', 'maxResults': 45}\nhttps://rhymebrain.com/talk?function=getRhymes&word=Recht&lang=de&maxResults=45\n{'function': 'getRhymes', 'word': 'vorbei', 'lang': 'de', 'maxResults': 45}\nhttps://rhymebrain.com/talk?function=getRhymes&word=vorbei&lang=de&maxResults=45\n{'function': 'getRhymes', 'word': 'geforpern', 'lang': 'de', 'maxResults': 45}\nhttps://rhymebrain.com/talk?function=getRhymes&word=geforpern&lang=de&maxResults=45\n{'function': 'getRhymes', 'word': 'groß', 'lang': 'de', 'maxResults': 45}\nhttps://rhymebrain.com/talk?function=getRhymes&word=gro%C3%9F&lang=de&maxResults=45\n{'function': 'getRhymes', 'word': 'zusammen', 'lang': 'de', 'maxResults': 45}\nhttps://rhymebrain.com/talk?function=getRhymes&word=zusammen&lang=de&maxResults=45\n{'function': 'getRhymes', 'word': 'wieder', 'lang': 'de', 'maxResults': 45}\nhttps://rhymebrain.com/talk?function=getRhymes&word=wieder&lang=de&maxResults=45\n{'function': 'getRhymes', 'word': 'Landwahnt', 'lang': 'de', 'maxResults': 45}\nhttps://rhymebrain.com/talk?function=getRhymes&word=Landwahnt&lang=de&maxResults=45\n{'function': 'getRhymes', 'word': 'Gras', 'lang': 'de', 'maxResults': 45}\nhttps://rhymebrain.com/talk?function=getRhymes&word=Gras&lang=de&maxResults=45\n{'function': 'getRhymes', 'word': 'Herrn', 'lang': 'de', 'maxResults': 45}\nhttps://rhymebrain.com/talk?function=getRhymes&word=Herrn&lang=de&maxResults=45\n{'function': 'getRhymes', 'word': 'Blut', 'lang': 'de', 'maxResults': 45}\nhttps://rhymebrain.com/talk?function=getRhymes&word=Blut&lang=de&maxResults=45\n{'function': 'getRhymes', 'word': 'Entgegenleuchtete', 'lang': 'de', 'maxResults': 45}\nhttps://rhymebrain.com/talk?function=getRhymes&word=Entgegenleuchtete&lang=de&maxResults=45\n{'function': 'getRhymes', 'word': 'fort', 'lang': 'de', 'maxResults': 45}\nhttps://rhymebrain.com/talk?function=getRhymes&word=fort&lang=de&maxResults=45\n{'function': 'getRhymes', 'word': 'dringt', 'lang': 'de', 'maxResults': 45}\nhttps://rhymebrain.com/talk?function=getRhymes&word=dringt&lang=de&maxResults=45\n{'function': 'getRhymes', 'word': 'erweisen', 'lang': 'de', 'maxResults': 45}\nhttps://rhymebrain.com/talk?function=getRhymes&word=erweisen&lang=de&maxResults=45\n{'function': 'getRhymes', 'word': 'Stadt', 'lang': 'de', 'maxResults': 45}\nhttps://rhymebrain.com/talk?function=getRhymes&word=Stadt&lang=de&maxResults=45\n{'function': 'getRhymes', 'word': 'fließen', 'lang': 'de', 'maxResults': 45}\nhttps://rhymebrain.com/talk?function=getRhymes&word=flie%C3%9Fen&lang=de&maxResults=45\n{'function': 'getRhymes', 'word': 'Kohle', 'lang': 'de', 'maxResults': 45}\nhttps://rhymebrain.com/talk?function=getRhymes&word=Kohle&lang=de&maxResults=45\n{'function': 'getRhymes', 'word': 'Glieder', 'lang': 'de', 'maxResults': 45}\nhttps://rhymebrain.com/talk?function=getRhymes&word=Glieder&lang=de&maxResults=45\n{'function': 'getRhymes', 'word': 'Gedränge', 'lang': 'de', 'maxResults': 45}\nhttps://rhymebrain.com/talk?function=getRhymes&word=Gedr%C3%A4nge&lang=de&maxResults=45\n{'function': 'getRhymes', 'word': 'spüren', 'lang': 'de', 'maxResults': 45}\nhttps://rhymebrain.com/talk?function=getRhymes&word=sp%C3%BCren&lang=de&maxResults=45\n{'function': 'getRhymes', 'word': 'gehn', 'lang': 'de', 'maxResults': 45}\nhttps://rhymebrain.com/talk?function=getRhymes&word=gehn&lang=de&maxResults=45\n{'function': 'getRhymes', 'word': 'Gewunden', 'lang': 'de', 'maxResults': 45}\nhttps://rhymebrain.com/talk?function=getRhymes&word=Gewunden&lang=de&maxResults=45\n{'function': 'getRhymes', 'word': 'schlägt', 'lang': 'de', 'maxResults': 45}\nhttps://rhymebrain.com/talk?function=getRhymes&word=schl%C3%A4gt&lang=de&maxResults=45\n{'function': 'getRhymes', 'word': 'Spaten', 'lang': 'de', 'maxResults': 45}\nhttps://rhymebrain.com/talk?function=getRhymes&word=Spaten&lang=de&maxResults=45\n{'function': 'getRhymes', 'word': 'neigst', 'lang': 'de', 'maxResults': 45}\nhttps://rhymebrain.com/talk?function=getRhymes&word=neigst&lang=de&maxResults=45\n{'function': 'getRhymes', 'word': 'Rücken', 'lang': 'de', 'maxResults': 45}\nhttps://rhymebrain.com/talk?function=getRhymes&word=R%C3%BCcken&lang=de&maxResults=45\n{'function': 'getRhymes', 'word': 'mißglückt', 'lang': 'de', 'maxResults': 45}\n"
    },
    {
     "output_type": "error",
     "ename": "ConnectionError",
     "evalue": "HTTPSConnectionPool(host='rhymebrain.com', port=443): Max retries exceeded with url: /talk?function=getRhymes&word=mi%C3%9Fgl%C3%BCckt&lang=de&maxResults=45 (Caused by NewConnectionError('<urllib3.connection.HTTPSConnection object at 0x7fcdf0089730>: Failed to establish a new connection: [Errno -2] Name or service not known'))",
     "traceback": [
      "\u001b[0;31m---------------------------------------------------------------------------\u001b[0m",
      "\u001b[0;31mgaierror\u001b[0m                                  Traceback (most recent call last)",
      "\u001b[0;32m~/anaconda3/envs/WG/lib/python3.8/site-packages/urllib3/connection.py\u001b[0m in \u001b[0;36m_new_conn\u001b[0;34m(self)\u001b[0m\n\u001b[1;32m    158\u001b[0m         \u001b[0;32mtry\u001b[0m\u001b[0;34m:\u001b[0m\u001b[0;34m\u001b[0m\u001b[0;34m\u001b[0m\u001b[0m\n\u001b[0;32m--> 159\u001b[0;31m             conn = connection.create_connection(\n\u001b[0m\u001b[1;32m    160\u001b[0m                 \u001b[0;34m(\u001b[0m\u001b[0mself\u001b[0m\u001b[0;34m.\u001b[0m\u001b[0m_dns_host\u001b[0m\u001b[0;34m,\u001b[0m \u001b[0mself\u001b[0m\u001b[0;34m.\u001b[0m\u001b[0mport\u001b[0m\u001b[0;34m)\u001b[0m\u001b[0;34m,\u001b[0m \u001b[0mself\u001b[0m\u001b[0;34m.\u001b[0m\u001b[0mtimeout\u001b[0m\u001b[0;34m,\u001b[0m \u001b[0;34m**\u001b[0m\u001b[0mextra_kw\u001b[0m\u001b[0;34m\u001b[0m\u001b[0;34m\u001b[0m\u001b[0m\n",
      "\u001b[0;32m~/anaconda3/envs/WG/lib/python3.8/site-packages/urllib3/util/connection.py\u001b[0m in \u001b[0;36mcreate_connection\u001b[0;34m(address, timeout, source_address, socket_options)\u001b[0m\n\u001b[1;32m     60\u001b[0m \u001b[0;34m\u001b[0m\u001b[0m\n\u001b[0;32m---> 61\u001b[0;31m     \u001b[0;32mfor\u001b[0m \u001b[0mres\u001b[0m \u001b[0;32min\u001b[0m \u001b[0msocket\u001b[0m\u001b[0;34m.\u001b[0m\u001b[0mgetaddrinfo\u001b[0m\u001b[0;34m(\u001b[0m\u001b[0mhost\u001b[0m\u001b[0;34m,\u001b[0m \u001b[0mport\u001b[0m\u001b[0;34m,\u001b[0m \u001b[0mfamily\u001b[0m\u001b[0;34m,\u001b[0m \u001b[0msocket\u001b[0m\u001b[0;34m.\u001b[0m\u001b[0mSOCK_STREAM\u001b[0m\u001b[0;34m)\u001b[0m\u001b[0;34m:\u001b[0m\u001b[0;34m\u001b[0m\u001b[0;34m\u001b[0m\u001b[0m\n\u001b[0m\u001b[1;32m     62\u001b[0m         \u001b[0maf\u001b[0m\u001b[0;34m,\u001b[0m \u001b[0msocktype\u001b[0m\u001b[0;34m,\u001b[0m \u001b[0mproto\u001b[0m\u001b[0;34m,\u001b[0m \u001b[0mcanonname\u001b[0m\u001b[0;34m,\u001b[0m \u001b[0msa\u001b[0m \u001b[0;34m=\u001b[0m \u001b[0mres\u001b[0m\u001b[0;34m\u001b[0m\u001b[0;34m\u001b[0m\u001b[0m\n",
      "\u001b[0;32m~/anaconda3/envs/WG/lib/python3.8/socket.py\u001b[0m in \u001b[0;36mgetaddrinfo\u001b[0;34m(host, port, family, type, proto, flags)\u001b[0m\n\u001b[1;32m    917\u001b[0m     \u001b[0maddrlist\u001b[0m \u001b[0;34m=\u001b[0m \u001b[0;34m[\u001b[0m\u001b[0;34m]\u001b[0m\u001b[0;34m\u001b[0m\u001b[0;34m\u001b[0m\u001b[0m\n\u001b[0;32m--> 918\u001b[0;31m     \u001b[0;32mfor\u001b[0m \u001b[0mres\u001b[0m \u001b[0;32min\u001b[0m \u001b[0m_socket\u001b[0m\u001b[0;34m.\u001b[0m\u001b[0mgetaddrinfo\u001b[0m\u001b[0;34m(\u001b[0m\u001b[0mhost\u001b[0m\u001b[0;34m,\u001b[0m \u001b[0mport\u001b[0m\u001b[0;34m,\u001b[0m \u001b[0mfamily\u001b[0m\u001b[0;34m,\u001b[0m \u001b[0mtype\u001b[0m\u001b[0;34m,\u001b[0m \u001b[0mproto\u001b[0m\u001b[0;34m,\u001b[0m \u001b[0mflags\u001b[0m\u001b[0;34m)\u001b[0m\u001b[0;34m:\u001b[0m\u001b[0;34m\u001b[0m\u001b[0;34m\u001b[0m\u001b[0m\n\u001b[0m\u001b[1;32m    919\u001b[0m         \u001b[0maf\u001b[0m\u001b[0;34m,\u001b[0m \u001b[0msocktype\u001b[0m\u001b[0;34m,\u001b[0m \u001b[0mproto\u001b[0m\u001b[0;34m,\u001b[0m \u001b[0mcanonname\u001b[0m\u001b[0;34m,\u001b[0m \u001b[0msa\u001b[0m \u001b[0;34m=\u001b[0m \u001b[0mres\u001b[0m\u001b[0;34m\u001b[0m\u001b[0;34m\u001b[0m\u001b[0m\n",
      "\u001b[0;31mgaierror\u001b[0m: [Errno -2] Name or service not known",
      "\nDuring handling of the above exception, another exception occurred:\n",
      "\u001b[0;31mNewConnectionError\u001b[0m                        Traceback (most recent call last)",
      "\u001b[0;32m~/anaconda3/envs/WG/lib/python3.8/site-packages/urllib3/connectionpool.py\u001b[0m in \u001b[0;36murlopen\u001b[0;34m(self, method, url, body, headers, retries, redirect, assert_same_host, timeout, pool_timeout, release_conn, chunked, body_pos, **response_kw)\u001b[0m\n\u001b[1;32m    669\u001b[0m             \u001b[0;31m# Make the request on the httplib connection object.\u001b[0m\u001b[0;34m\u001b[0m\u001b[0;34m\u001b[0m\u001b[0;34m\u001b[0m\u001b[0m\n\u001b[0;32m--> 670\u001b[0;31m             httplib_response = self._make_request(\n\u001b[0m\u001b[1;32m    671\u001b[0m                 \u001b[0mconn\u001b[0m\u001b[0;34m,\u001b[0m\u001b[0;34m\u001b[0m\u001b[0;34m\u001b[0m\u001b[0m\n",
      "\u001b[0;32m~/anaconda3/envs/WG/lib/python3.8/site-packages/urllib3/connectionpool.py\u001b[0m in \u001b[0;36m_make_request\u001b[0;34m(self, conn, method, url, timeout, chunked, **httplib_request_kw)\u001b[0m\n\u001b[1;32m    380\u001b[0m         \u001b[0;32mtry\u001b[0m\u001b[0;34m:\u001b[0m\u001b[0;34m\u001b[0m\u001b[0;34m\u001b[0m\u001b[0m\n\u001b[0;32m--> 381\u001b[0;31m             \u001b[0mself\u001b[0m\u001b[0;34m.\u001b[0m\u001b[0m_validate_conn\u001b[0m\u001b[0;34m(\u001b[0m\u001b[0mconn\u001b[0m\u001b[0;34m)\u001b[0m\u001b[0;34m\u001b[0m\u001b[0;34m\u001b[0m\u001b[0m\n\u001b[0m\u001b[1;32m    382\u001b[0m         \u001b[0;32mexcept\u001b[0m \u001b[0;34m(\u001b[0m\u001b[0mSocketTimeout\u001b[0m\u001b[0;34m,\u001b[0m \u001b[0mBaseSSLError\u001b[0m\u001b[0;34m)\u001b[0m \u001b[0;32mas\u001b[0m \u001b[0me\u001b[0m\u001b[0;34m:\u001b[0m\u001b[0;34m\u001b[0m\u001b[0;34m\u001b[0m\u001b[0m\n",
      "\u001b[0;32m~/anaconda3/envs/WG/lib/python3.8/site-packages/urllib3/connectionpool.py\u001b[0m in \u001b[0;36m_validate_conn\u001b[0;34m(self, conn)\u001b[0m\n\u001b[1;32m    975\u001b[0m         \u001b[0;32mif\u001b[0m \u001b[0;32mnot\u001b[0m \u001b[0mgetattr\u001b[0m\u001b[0;34m(\u001b[0m\u001b[0mconn\u001b[0m\u001b[0;34m,\u001b[0m \u001b[0;34m\"sock\"\u001b[0m\u001b[0;34m,\u001b[0m \u001b[0;32mNone\u001b[0m\u001b[0;34m)\u001b[0m\u001b[0;34m:\u001b[0m  \u001b[0;31m# AppEngine might not have  `.sock`\u001b[0m\u001b[0;34m\u001b[0m\u001b[0;34m\u001b[0m\u001b[0m\n\u001b[0;32m--> 976\u001b[0;31m             \u001b[0mconn\u001b[0m\u001b[0;34m.\u001b[0m\u001b[0mconnect\u001b[0m\u001b[0;34m(\u001b[0m\u001b[0;34m)\u001b[0m\u001b[0;34m\u001b[0m\u001b[0;34m\u001b[0m\u001b[0m\n\u001b[0m\u001b[1;32m    977\u001b[0m \u001b[0;34m\u001b[0m\u001b[0m\n",
      "\u001b[0;32m~/anaconda3/envs/WG/lib/python3.8/site-packages/urllib3/connection.py\u001b[0m in \u001b[0;36mconnect\u001b[0;34m(self)\u001b[0m\n\u001b[1;32m    307\u001b[0m         \u001b[0;31m# Add certificate verification\u001b[0m\u001b[0;34m\u001b[0m\u001b[0;34m\u001b[0m\u001b[0;34m\u001b[0m\u001b[0m\n\u001b[0;32m--> 308\u001b[0;31m         \u001b[0mconn\u001b[0m \u001b[0;34m=\u001b[0m \u001b[0mself\u001b[0m\u001b[0;34m.\u001b[0m\u001b[0m_new_conn\u001b[0m\u001b[0;34m(\u001b[0m\u001b[0;34m)\u001b[0m\u001b[0;34m\u001b[0m\u001b[0;34m\u001b[0m\u001b[0m\n\u001b[0m\u001b[1;32m    309\u001b[0m         \u001b[0mhostname\u001b[0m \u001b[0;34m=\u001b[0m \u001b[0mself\u001b[0m\u001b[0;34m.\u001b[0m\u001b[0mhost\u001b[0m\u001b[0;34m\u001b[0m\u001b[0;34m\u001b[0m\u001b[0m\n",
      "\u001b[0;32m~/anaconda3/envs/WG/lib/python3.8/site-packages/urllib3/connection.py\u001b[0m in \u001b[0;36m_new_conn\u001b[0;34m(self)\u001b[0m\n\u001b[1;32m    170\u001b[0m         \u001b[0;32mexcept\u001b[0m \u001b[0mSocketError\u001b[0m \u001b[0;32mas\u001b[0m \u001b[0me\u001b[0m\u001b[0;34m:\u001b[0m\u001b[0;34m\u001b[0m\u001b[0;34m\u001b[0m\u001b[0m\n\u001b[0;32m--> 171\u001b[0;31m             raise NewConnectionError(\n\u001b[0m\u001b[1;32m    172\u001b[0m                 \u001b[0mself\u001b[0m\u001b[0;34m,\u001b[0m \u001b[0;34m\"Failed to establish a new connection: %s\"\u001b[0m \u001b[0;34m%\u001b[0m \u001b[0me\u001b[0m\u001b[0;34m\u001b[0m\u001b[0;34m\u001b[0m\u001b[0m\n",
      "\u001b[0;31mNewConnectionError\u001b[0m: <urllib3.connection.HTTPSConnection object at 0x7fcdf0089730>: Failed to establish a new connection: [Errno -2] Name or service not known",
      "\nDuring handling of the above exception, another exception occurred:\n",
      "\u001b[0;31mMaxRetryError\u001b[0m                             Traceback (most recent call last)",
      "\u001b[0;32m~/anaconda3/envs/WG/lib/python3.8/site-packages/requests/adapters.py\u001b[0m in \u001b[0;36msend\u001b[0;34m(self, request, stream, timeout, verify, cert, proxies)\u001b[0m\n\u001b[1;32m    438\u001b[0m             \u001b[0;32mif\u001b[0m \u001b[0;32mnot\u001b[0m \u001b[0mchunked\u001b[0m\u001b[0;34m:\u001b[0m\u001b[0;34m\u001b[0m\u001b[0;34m\u001b[0m\u001b[0m\n\u001b[0;32m--> 439\u001b[0;31m                 resp = conn.urlopen(\n\u001b[0m\u001b[1;32m    440\u001b[0m                     \u001b[0mmethod\u001b[0m\u001b[0;34m=\u001b[0m\u001b[0mrequest\u001b[0m\u001b[0;34m.\u001b[0m\u001b[0mmethod\u001b[0m\u001b[0;34m,\u001b[0m\u001b[0;34m\u001b[0m\u001b[0;34m\u001b[0m\u001b[0m\n",
      "\u001b[0;32m~/anaconda3/envs/WG/lib/python3.8/site-packages/urllib3/connectionpool.py\u001b[0m in \u001b[0;36murlopen\u001b[0;34m(self, method, url, body, headers, retries, redirect, assert_same_host, timeout, pool_timeout, release_conn, chunked, body_pos, **response_kw)\u001b[0m\n\u001b[1;32m    723\u001b[0m \u001b[0;34m\u001b[0m\u001b[0m\n\u001b[0;32m--> 724\u001b[0;31m             retries = retries.increment(\n\u001b[0m\u001b[1;32m    725\u001b[0m                 \u001b[0mmethod\u001b[0m\u001b[0;34m,\u001b[0m \u001b[0murl\u001b[0m\u001b[0;34m,\u001b[0m \u001b[0merror\u001b[0m\u001b[0;34m=\u001b[0m\u001b[0me\u001b[0m\u001b[0;34m,\u001b[0m \u001b[0m_pool\u001b[0m\u001b[0;34m=\u001b[0m\u001b[0mself\u001b[0m\u001b[0;34m,\u001b[0m \u001b[0m_stacktrace\u001b[0m\u001b[0;34m=\u001b[0m\u001b[0msys\u001b[0m\u001b[0;34m.\u001b[0m\u001b[0mexc_info\u001b[0m\u001b[0;34m(\u001b[0m\u001b[0;34m)\u001b[0m\u001b[0;34m[\u001b[0m\u001b[0;36m2\u001b[0m\u001b[0;34m]\u001b[0m\u001b[0;34m\u001b[0m\u001b[0;34m\u001b[0m\u001b[0m\n",
      "\u001b[0;32m~/anaconda3/envs/WG/lib/python3.8/site-packages/urllib3/util/retry.py\u001b[0m in \u001b[0;36mincrement\u001b[0;34m(self, method, url, response, error, _pool, _stacktrace)\u001b[0m\n\u001b[1;32m    438\u001b[0m         \u001b[0;32mif\u001b[0m \u001b[0mnew_retry\u001b[0m\u001b[0;34m.\u001b[0m\u001b[0mis_exhausted\u001b[0m\u001b[0;34m(\u001b[0m\u001b[0;34m)\u001b[0m\u001b[0;34m:\u001b[0m\u001b[0;34m\u001b[0m\u001b[0;34m\u001b[0m\u001b[0m\n\u001b[0;32m--> 439\u001b[0;31m             \u001b[0;32mraise\u001b[0m \u001b[0mMaxRetryError\u001b[0m\u001b[0;34m(\u001b[0m\u001b[0m_pool\u001b[0m\u001b[0;34m,\u001b[0m \u001b[0murl\u001b[0m\u001b[0;34m,\u001b[0m \u001b[0merror\u001b[0m \u001b[0;32mor\u001b[0m \u001b[0mResponseError\u001b[0m\u001b[0;34m(\u001b[0m\u001b[0mcause\u001b[0m\u001b[0;34m)\u001b[0m\u001b[0;34m)\u001b[0m\u001b[0;34m\u001b[0m\u001b[0;34m\u001b[0m\u001b[0m\n\u001b[0m\u001b[1;32m    440\u001b[0m \u001b[0;34m\u001b[0m\u001b[0m\n",
      "\u001b[0;31mMaxRetryError\u001b[0m: HTTPSConnectionPool(host='rhymebrain.com', port=443): Max retries exceeded with url: /talk?function=getRhymes&word=mi%C3%9Fgl%C3%BCckt&lang=de&maxResults=45 (Caused by NewConnectionError('<urllib3.connection.HTTPSConnection object at 0x7fcdf0089730>: Failed to establish a new connection: [Errno -2] Name or service not known'))",
      "\nDuring handling of the above exception, another exception occurred:\n",
      "\u001b[0;31mConnectionError\u001b[0m                           Traceback (most recent call last)",
      "\u001b[0;32m<ipython-input-19-c69ccd9793c6>\u001b[0m in \u001b[0;36m<module>\u001b[0;34m\u001b[0m\n\u001b[1;32m      5\u001b[0m \u001b[0;32mfor\u001b[0m \u001b[0mi\u001b[0m\u001b[0;34m,\u001b[0m \u001b[0mword1\u001b[0m \u001b[0;32min\u001b[0m \u001b[0mword_dict\u001b[0m\u001b[0;34m.\u001b[0m\u001b[0mitems\u001b[0m\u001b[0;34m(\u001b[0m\u001b[0;34m)\u001b[0m\u001b[0;34m:\u001b[0m\u001b[0;34m\u001b[0m\u001b[0;34m\u001b[0m\u001b[0m\n\u001b[1;32m      6\u001b[0m     \u001b[0;31m# Get potential rhymes from pronouncing package\u001b[0m\u001b[0;34m\u001b[0m\u001b[0;34m\u001b[0m\u001b[0;34m\u001b[0m\u001b[0m\n\u001b[0;32m----> 7\u001b[0;31m     \u001b[0mpotential_rhymes\u001b[0m \u001b[0;34m=\u001b[0m \u001b[0mretrieve_rhymes\u001b[0m\u001b[0;34m(\u001b[0m\u001b[0mword1\u001b[0m\u001b[0;34m)\u001b[0m\u001b[0;34m\u001b[0m\u001b[0;34m\u001b[0m\u001b[0m\n\u001b[0m\u001b[1;32m      8\u001b[0m     \u001b[0mrhymes\u001b[0m \u001b[0;34m=\u001b[0m \u001b[0;34m[\u001b[0m\u001b[0;34m]\u001b[0m\u001b[0;34m\u001b[0m\u001b[0;34m\u001b[0m\u001b[0m\n\u001b[1;32m      9\u001b[0m     \u001b[0;32mfor\u001b[0m \u001b[0mx\u001b[0m\u001b[0;34m,\u001b[0m \u001b[0mword2\u001b[0m \u001b[0;32min\u001b[0m \u001b[0mword_dict\u001b[0m\u001b[0;34m.\u001b[0m\u001b[0mitems\u001b[0m\u001b[0;34m(\u001b[0m\u001b[0;34m)\u001b[0m\u001b[0;34m:\u001b[0m\u001b[0;34m\u001b[0m\u001b[0;34m\u001b[0m\u001b[0m\n",
      "\u001b[0;32m<ipython-input-17-f66ff614edab>\u001b[0m in \u001b[0;36mretrieve_rhymes\u001b[0;34m(word)\u001b[0m\n\u001b[1;32m      5\u001b[0m     \u001b[0mrb\u001b[0m \u001b[0;34m=\u001b[0m \u001b[0mpyrhyme\u001b[0m\u001b[0;34m.\u001b[0m\u001b[0mRhymeBrain\u001b[0m\u001b[0;34m(\u001b[0m\u001b[0;34m)\u001b[0m\u001b[0;34m\u001b[0m\u001b[0;34m\u001b[0m\u001b[0m\n\u001b[1;32m      6\u001b[0m     \u001b[0mrhymes\u001b[0m \u001b[0;34m=\u001b[0m \u001b[0;34m[\u001b[0m\u001b[0;34m]\u001b[0m\u001b[0;34m\u001b[0m\u001b[0;34m\u001b[0m\u001b[0m\n\u001b[0;32m----> 7\u001b[0;31m     \u001b[0;32mfor\u001b[0m \u001b[0mobt\u001b[0m \u001b[0;32min\u001b[0m \u001b[0mrb\u001b[0m\u001b[0;34m.\u001b[0m\u001b[0mrhyming_list\u001b[0m\u001b[0;34m(\u001b[0m\u001b[0mword\u001b[0m\u001b[0;34m=\u001b[0m\u001b[0mword\u001b[0m\u001b[0;34m,\u001b[0m \u001b[0mlang\u001b[0m\u001b[0;34m=\u001b[0m\u001b[0;34m\"de\"\u001b[0m\u001b[0;34m,\u001b[0m \u001b[0mmaxResults\u001b[0m\u001b[0;34m=\u001b[0m\u001b[0;36m45\u001b[0m\u001b[0;34m)\u001b[0m\u001b[0;34m:\u001b[0m\u001b[0;34m\u001b[0m\u001b[0;34m\u001b[0m\u001b[0m\n\u001b[0m\u001b[1;32m      8\u001b[0m         \u001b[0;31m#print(obt[\"word\"])\u001b[0m\u001b[0;34m\u001b[0m\u001b[0;34m\u001b[0m\u001b[0;34m\u001b[0m\u001b[0m\n\u001b[1;32m      9\u001b[0m         \u001b[0;31m#print(obt[\"score\"])\u001b[0m\u001b[0;34m\u001b[0m\u001b[0;34m\u001b[0m\u001b[0;34m\u001b[0m\u001b[0m\n",
      "\u001b[0;32m~/anaconda3/envs/WG/lib/python3.8/site-packages/pyrhyme.py\u001b[0m in \u001b[0;36mrhyming_list\u001b[0;34m(self, word, lang, maxResults)\u001b[0m\n\u001b[1;32m    171\u001b[0m         \u001b[0;34m:\u001b[0m\u001b[0mtype\u001b[0m \u001b[0mlimit\u001b[0m\u001b[0;34m:\u001b[0m \u001b[0mint\u001b[0m\u001b[0;34m\u001b[0m\u001b[0;34m\u001b[0m\u001b[0m\n\u001b[1;32m    172\u001b[0m \t\t\"\"\"\n\u001b[0;32m--> 173\u001b[0;31m                 \u001b[0;32mreturn\u001b[0m \u001b[0mlist\u001b[0m\u001b[0;34m(\u001b[0m\u001b[0mself\u001b[0m\u001b[0;34m.\u001b[0m\u001b[0mrhyming\u001b[0m\u001b[0;34m(\u001b[0m\u001b[0mword\u001b[0m\u001b[0;34m=\u001b[0m\u001b[0mword\u001b[0m\u001b[0;34m,\u001b[0m \u001b[0mmaxResults\u001b[0m\u001b[0;34m=\u001b[0m\u001b[0mmaxResults\u001b[0m\u001b[0;34m,\u001b[0m \u001b[0mlang\u001b[0m\u001b[0;34m=\u001b[0m\u001b[0mlang\u001b[0m\u001b[0;34m)\u001b[0m\u001b[0;34m)\u001b[0m\u001b[0;34m\u001b[0m\u001b[0;34m\u001b[0m\u001b[0m\n\u001b[0m\u001b[1;32m    174\u001b[0m \u001b[0;34m\u001b[0m\u001b[0m\n\u001b[1;32m    175\u001b[0m \u001b[0;34m\u001b[0m\u001b[0m\n",
      "\u001b[0;32m~/anaconda3/envs/WG/lib/python3.8/site-packages/pyrhyme.py\u001b[0m in \u001b[0;36mrhyming\u001b[0;34m(self, word, lang, maxResults)\u001b[0m\n\u001b[1;32m    151\u001b[0m                 \u001b[0mfetch\u001b[0m \u001b[0;34m=\u001b[0m \u001b[0mpartial\u001b[0m\u001b[0;34m(\u001b[0m\u001b[0mself\u001b[0m\u001b[0;34m.\u001b[0m\u001b[0m_fetch\u001b[0m\u001b[0;34m,\u001b[0m \u001b[0;34m'getRhymes'\u001b[0m\u001b[0;34m,\u001b[0m \u001b[0;34m**\u001b[0m\u001b[0mparams\u001b[0m\u001b[0;34m)\u001b[0m\u001b[0;34m\u001b[0m\u001b[0;34m\u001b[0m\u001b[0m\n\u001b[1;32m    152\u001b[0m \u001b[0;34m\u001b[0m\u001b[0m\n\u001b[0;32m--> 153\u001b[0;31m                 \u001b[0mdata\u001b[0m \u001b[0;34m=\u001b[0m \u001b[0mfetch\u001b[0m\u001b[0;34m(\u001b[0m\u001b[0;34m)\u001b[0m\u001b[0;34m\u001b[0m\u001b[0;34m\u001b[0m\u001b[0m\n\u001b[0m\u001b[1;32m    154\u001b[0m \u001b[0;34m\u001b[0m\u001b[0m\n\u001b[1;32m    155\u001b[0m                 \u001b[0;32mfor\u001b[0m \u001b[0mitem\u001b[0m \u001b[0;32min\u001b[0m \u001b[0mdata\u001b[0m\u001b[0;34m:\u001b[0m\u001b[0;34m\u001b[0m\u001b[0;34m\u001b[0m\u001b[0m\n",
      "\u001b[0;32m~/anaconda3/envs/WG/lib/python3.8/site-packages/pyrhyme.py\u001b[0m in \u001b[0;36m_fetch\u001b[0;34m(self, endpoint_name, **params)\u001b[0m\n\u001b[1;32m    117\u001b[0m                 \u001b[0mparams\u001b[0m\u001b[0;34m[\u001b[0m\u001b[0;34m'function'\u001b[0m\u001b[0;34m]\u001b[0m \u001b[0;34m=\u001b[0m \u001b[0mendpoint_name\u001b[0m\u001b[0;34m\u001b[0m\u001b[0;34m\u001b[0m\u001b[0m\n\u001b[1;32m    118\u001b[0m                 \u001b[0mprint\u001b[0m\u001b[0;34m(\u001b[0m\u001b[0mparams\u001b[0m\u001b[0;34m)\u001b[0m\u001b[0;34m\u001b[0m\u001b[0;34m\u001b[0m\u001b[0m\n\u001b[0;32m--> 119\u001b[0;31m                 \u001b[0mresp\u001b[0m \u001b[0;34m=\u001b[0m \u001b[0mrequests\u001b[0m\u001b[0;34m.\u001b[0m\u001b[0mget\u001b[0m\u001b[0;34m(\u001b[0m\u001b[0mself\u001b[0m\u001b[0;34m.\u001b[0m\u001b[0m_endpoint\u001b[0m\u001b[0;34m(\u001b[0m\u001b[0;34m)\u001b[0m\u001b[0;34m,\u001b[0m \u001b[0mparams\u001b[0m\u001b[0;34m=\u001b[0m\u001b[0mparams\u001b[0m\u001b[0;34m)\u001b[0m\u001b[0;34m\u001b[0m\u001b[0;34m\u001b[0m\u001b[0m\n\u001b[0m\u001b[1;32m    120\u001b[0m                 \u001b[0mprint\u001b[0m\u001b[0;34m(\u001b[0m\u001b[0mresp\u001b[0m\u001b[0;34m.\u001b[0m\u001b[0murl\u001b[0m\u001b[0;34m)\u001b[0m\u001b[0;34m\u001b[0m\u001b[0;34m\u001b[0m\u001b[0m\n\u001b[1;32m    121\u001b[0m                 \u001b[0mresp\u001b[0m\u001b[0;34m.\u001b[0m\u001b[0mraise_for_status\u001b[0m\u001b[0;34m(\u001b[0m\u001b[0;34m)\u001b[0m\u001b[0;34m\u001b[0m\u001b[0;34m\u001b[0m\u001b[0m\n",
      "\u001b[0;32m~/anaconda3/envs/WG/lib/python3.8/site-packages/requests/api.py\u001b[0m in \u001b[0;36mget\u001b[0;34m(url, params, **kwargs)\u001b[0m\n\u001b[1;32m     74\u001b[0m \u001b[0;34m\u001b[0m\u001b[0m\n\u001b[1;32m     75\u001b[0m     \u001b[0mkwargs\u001b[0m\u001b[0;34m.\u001b[0m\u001b[0msetdefault\u001b[0m\u001b[0;34m(\u001b[0m\u001b[0;34m'allow_redirects'\u001b[0m\u001b[0;34m,\u001b[0m \u001b[0;32mTrue\u001b[0m\u001b[0;34m)\u001b[0m\u001b[0;34m\u001b[0m\u001b[0;34m\u001b[0m\u001b[0m\n\u001b[0;32m---> 76\u001b[0;31m     \u001b[0;32mreturn\u001b[0m \u001b[0mrequest\u001b[0m\u001b[0;34m(\u001b[0m\u001b[0;34m'get'\u001b[0m\u001b[0;34m,\u001b[0m \u001b[0murl\u001b[0m\u001b[0;34m,\u001b[0m \u001b[0mparams\u001b[0m\u001b[0;34m=\u001b[0m\u001b[0mparams\u001b[0m\u001b[0;34m,\u001b[0m \u001b[0;34m**\u001b[0m\u001b[0mkwargs\u001b[0m\u001b[0;34m)\u001b[0m\u001b[0;34m\u001b[0m\u001b[0;34m\u001b[0m\u001b[0m\n\u001b[0m\u001b[1;32m     77\u001b[0m \u001b[0;34m\u001b[0m\u001b[0m\n\u001b[1;32m     78\u001b[0m \u001b[0;34m\u001b[0m\u001b[0m\n",
      "\u001b[0;32m~/anaconda3/envs/WG/lib/python3.8/site-packages/requests/api.py\u001b[0m in \u001b[0;36mrequest\u001b[0;34m(method, url, **kwargs)\u001b[0m\n\u001b[1;32m     59\u001b[0m     \u001b[0;31m# cases, and look like a memory leak in others.\u001b[0m\u001b[0;34m\u001b[0m\u001b[0;34m\u001b[0m\u001b[0;34m\u001b[0m\u001b[0m\n\u001b[1;32m     60\u001b[0m     \u001b[0;32mwith\u001b[0m \u001b[0msessions\u001b[0m\u001b[0;34m.\u001b[0m\u001b[0mSession\u001b[0m\u001b[0;34m(\u001b[0m\u001b[0;34m)\u001b[0m \u001b[0;32mas\u001b[0m \u001b[0msession\u001b[0m\u001b[0;34m:\u001b[0m\u001b[0;34m\u001b[0m\u001b[0;34m\u001b[0m\u001b[0m\n\u001b[0;32m---> 61\u001b[0;31m         \u001b[0;32mreturn\u001b[0m \u001b[0msession\u001b[0m\u001b[0;34m.\u001b[0m\u001b[0mrequest\u001b[0m\u001b[0;34m(\u001b[0m\u001b[0mmethod\u001b[0m\u001b[0;34m=\u001b[0m\u001b[0mmethod\u001b[0m\u001b[0;34m,\u001b[0m \u001b[0murl\u001b[0m\u001b[0;34m=\u001b[0m\u001b[0murl\u001b[0m\u001b[0;34m,\u001b[0m \u001b[0;34m**\u001b[0m\u001b[0mkwargs\u001b[0m\u001b[0;34m)\u001b[0m\u001b[0;34m\u001b[0m\u001b[0;34m\u001b[0m\u001b[0m\n\u001b[0m\u001b[1;32m     62\u001b[0m \u001b[0;34m\u001b[0m\u001b[0m\n\u001b[1;32m     63\u001b[0m \u001b[0;34m\u001b[0m\u001b[0m\n",
      "\u001b[0;32m~/anaconda3/envs/WG/lib/python3.8/site-packages/requests/sessions.py\u001b[0m in \u001b[0;36mrequest\u001b[0;34m(self, method, url, params, data, headers, cookies, files, auth, timeout, allow_redirects, proxies, hooks, stream, verify, cert, json)\u001b[0m\n\u001b[1;32m    528\u001b[0m         }\n\u001b[1;32m    529\u001b[0m         \u001b[0msend_kwargs\u001b[0m\u001b[0;34m.\u001b[0m\u001b[0mupdate\u001b[0m\u001b[0;34m(\u001b[0m\u001b[0msettings\u001b[0m\u001b[0;34m)\u001b[0m\u001b[0;34m\u001b[0m\u001b[0;34m\u001b[0m\u001b[0m\n\u001b[0;32m--> 530\u001b[0;31m         \u001b[0mresp\u001b[0m \u001b[0;34m=\u001b[0m \u001b[0mself\u001b[0m\u001b[0;34m.\u001b[0m\u001b[0msend\u001b[0m\u001b[0;34m(\u001b[0m\u001b[0mprep\u001b[0m\u001b[0;34m,\u001b[0m \u001b[0;34m**\u001b[0m\u001b[0msend_kwargs\u001b[0m\u001b[0;34m)\u001b[0m\u001b[0;34m\u001b[0m\u001b[0;34m\u001b[0m\u001b[0m\n\u001b[0m\u001b[1;32m    531\u001b[0m \u001b[0;34m\u001b[0m\u001b[0m\n\u001b[1;32m    532\u001b[0m         \u001b[0;32mreturn\u001b[0m \u001b[0mresp\u001b[0m\u001b[0;34m\u001b[0m\u001b[0;34m\u001b[0m\u001b[0m\n",
      "\u001b[0;32m~/anaconda3/envs/WG/lib/python3.8/site-packages/requests/sessions.py\u001b[0m in \u001b[0;36msend\u001b[0;34m(self, request, **kwargs)\u001b[0m\n\u001b[1;32m    663\u001b[0m \u001b[0;34m\u001b[0m\u001b[0m\n\u001b[1;32m    664\u001b[0m         \u001b[0;31m# Resolve redirects if allowed.\u001b[0m\u001b[0;34m\u001b[0m\u001b[0;34m\u001b[0m\u001b[0;34m\u001b[0m\u001b[0m\n\u001b[0;32m--> 665\u001b[0;31m         \u001b[0mhistory\u001b[0m \u001b[0;34m=\u001b[0m \u001b[0;34m[\u001b[0m\u001b[0mresp\u001b[0m \u001b[0;32mfor\u001b[0m \u001b[0mresp\u001b[0m \u001b[0;32min\u001b[0m \u001b[0mgen\u001b[0m\u001b[0;34m]\u001b[0m \u001b[0;32mif\u001b[0m \u001b[0mallow_redirects\u001b[0m \u001b[0;32melse\u001b[0m \u001b[0;34m[\u001b[0m\u001b[0;34m]\u001b[0m\u001b[0;34m\u001b[0m\u001b[0;34m\u001b[0m\u001b[0m\n\u001b[0m\u001b[1;32m    666\u001b[0m \u001b[0;34m\u001b[0m\u001b[0m\n\u001b[1;32m    667\u001b[0m         \u001b[0;31m# Shuffle things around if there's history.\u001b[0m\u001b[0;34m\u001b[0m\u001b[0;34m\u001b[0m\u001b[0;34m\u001b[0m\u001b[0m\n",
      "\u001b[0;32m~/anaconda3/envs/WG/lib/python3.8/site-packages/requests/sessions.py\u001b[0m in \u001b[0;36m<listcomp>\u001b[0;34m(.0)\u001b[0m\n\u001b[1;32m    663\u001b[0m \u001b[0;34m\u001b[0m\u001b[0m\n\u001b[1;32m    664\u001b[0m         \u001b[0;31m# Resolve redirects if allowed.\u001b[0m\u001b[0;34m\u001b[0m\u001b[0;34m\u001b[0m\u001b[0;34m\u001b[0m\u001b[0m\n\u001b[0;32m--> 665\u001b[0;31m         \u001b[0mhistory\u001b[0m \u001b[0;34m=\u001b[0m \u001b[0;34m[\u001b[0m\u001b[0mresp\u001b[0m \u001b[0;32mfor\u001b[0m \u001b[0mresp\u001b[0m \u001b[0;32min\u001b[0m \u001b[0mgen\u001b[0m\u001b[0;34m]\u001b[0m \u001b[0;32mif\u001b[0m \u001b[0mallow_redirects\u001b[0m \u001b[0;32melse\u001b[0m \u001b[0;34m[\u001b[0m\u001b[0;34m]\u001b[0m\u001b[0;34m\u001b[0m\u001b[0;34m\u001b[0m\u001b[0m\n\u001b[0m\u001b[1;32m    666\u001b[0m \u001b[0;34m\u001b[0m\u001b[0m\n\u001b[1;32m    667\u001b[0m         \u001b[0;31m# Shuffle things around if there's history.\u001b[0m\u001b[0;34m\u001b[0m\u001b[0;34m\u001b[0m\u001b[0;34m\u001b[0m\u001b[0m\n",
      "\u001b[0;32m~/anaconda3/envs/WG/lib/python3.8/site-packages/requests/sessions.py\u001b[0m in \u001b[0;36mresolve_redirects\u001b[0;34m(self, resp, req, stream, timeout, verify, cert, proxies, yield_requests, **adapter_kwargs)\u001b[0m\n\u001b[1;32m    235\u001b[0m             \u001b[0;32melse\u001b[0m\u001b[0;34m:\u001b[0m\u001b[0;34m\u001b[0m\u001b[0;34m\u001b[0m\u001b[0m\n\u001b[1;32m    236\u001b[0m \u001b[0;34m\u001b[0m\u001b[0m\n\u001b[0;32m--> 237\u001b[0;31m                 resp = self.send(\n\u001b[0m\u001b[1;32m    238\u001b[0m                     \u001b[0mreq\u001b[0m\u001b[0;34m,\u001b[0m\u001b[0;34m\u001b[0m\u001b[0;34m\u001b[0m\u001b[0m\n\u001b[1;32m    239\u001b[0m                     \u001b[0mstream\u001b[0m\u001b[0;34m=\u001b[0m\u001b[0mstream\u001b[0m\u001b[0;34m,\u001b[0m\u001b[0;34m\u001b[0m\u001b[0;34m\u001b[0m\u001b[0m\n",
      "\u001b[0;32m~/anaconda3/envs/WG/lib/python3.8/site-packages/requests/sessions.py\u001b[0m in \u001b[0;36msend\u001b[0;34m(self, request, **kwargs)\u001b[0m\n\u001b[1;32m    641\u001b[0m \u001b[0;34m\u001b[0m\u001b[0m\n\u001b[1;32m    642\u001b[0m         \u001b[0;31m# Send the request\u001b[0m\u001b[0;34m\u001b[0m\u001b[0;34m\u001b[0m\u001b[0;34m\u001b[0m\u001b[0m\n\u001b[0;32m--> 643\u001b[0;31m         \u001b[0mr\u001b[0m \u001b[0;34m=\u001b[0m \u001b[0madapter\u001b[0m\u001b[0;34m.\u001b[0m\u001b[0msend\u001b[0m\u001b[0;34m(\u001b[0m\u001b[0mrequest\u001b[0m\u001b[0;34m,\u001b[0m \u001b[0;34m**\u001b[0m\u001b[0mkwargs\u001b[0m\u001b[0;34m)\u001b[0m\u001b[0;34m\u001b[0m\u001b[0;34m\u001b[0m\u001b[0m\n\u001b[0m\u001b[1;32m    644\u001b[0m \u001b[0;34m\u001b[0m\u001b[0m\n\u001b[1;32m    645\u001b[0m         \u001b[0;31m# Total elapsed time of the request (approximately)\u001b[0m\u001b[0;34m\u001b[0m\u001b[0;34m\u001b[0m\u001b[0;34m\u001b[0m\u001b[0m\n",
      "\u001b[0;32m~/anaconda3/envs/WG/lib/python3.8/site-packages/requests/adapters.py\u001b[0m in \u001b[0;36msend\u001b[0;34m(self, request, stream, timeout, verify, cert, proxies)\u001b[0m\n\u001b[1;32m    514\u001b[0m                 \u001b[0;32mraise\u001b[0m \u001b[0mSSLError\u001b[0m\u001b[0;34m(\u001b[0m\u001b[0me\u001b[0m\u001b[0;34m,\u001b[0m \u001b[0mrequest\u001b[0m\u001b[0;34m=\u001b[0m\u001b[0mrequest\u001b[0m\u001b[0;34m)\u001b[0m\u001b[0;34m\u001b[0m\u001b[0;34m\u001b[0m\u001b[0m\n\u001b[1;32m    515\u001b[0m \u001b[0;34m\u001b[0m\u001b[0m\n\u001b[0;32m--> 516\u001b[0;31m             \u001b[0;32mraise\u001b[0m \u001b[0mConnectionError\u001b[0m\u001b[0;34m(\u001b[0m\u001b[0me\u001b[0m\u001b[0;34m,\u001b[0m \u001b[0mrequest\u001b[0m\u001b[0;34m=\u001b[0m\u001b[0mrequest\u001b[0m\u001b[0;34m)\u001b[0m\u001b[0;34m\u001b[0m\u001b[0;34m\u001b[0m\u001b[0m\n\u001b[0m\u001b[1;32m    517\u001b[0m \u001b[0;34m\u001b[0m\u001b[0m\n\u001b[1;32m    518\u001b[0m         \u001b[0;32mexcept\u001b[0m \u001b[0mClosedPoolError\u001b[0m \u001b[0;32mas\u001b[0m \u001b[0me\u001b[0m\u001b[0;34m:\u001b[0m\u001b[0;34m\u001b[0m\u001b[0;34m\u001b[0m\u001b[0m\n",
      "\u001b[0;31mConnectionError\u001b[0m: HTTPSConnectionPool(host='rhymebrain.com', port=443): Max retries exceeded with url: /talk?function=getRhymes&word=mi%C3%9Fgl%C3%BCckt&lang=de&maxResults=45 (Caused by NewConnectionError('<urllib3.connection.HTTPSConnection object at 0x7fcdf0089730>: Failed to establish a new connection: [Errno -2] Name or service not known'))"
     ]
    }
   ],
   "source": [
    "# Rhyming indices\n",
    "# { 0 : [1, 2, 3] } means that line 0 rhymes with lines 1, 2, 3\n",
    "rhyme_dict = {}\n",
    "\n",
    "for i, word1 in word_dict.items():\n",
    "    # Get potential rhymes from pronouncing package\n",
    "    potential_rhymes = retrieve_rhymes(word1)\n",
    "    rhymes = []\n",
    "    for x, word2 in word_dict.items():\n",
    "        # Disallow rhyming with self or same word\n",
    "        if word1 != word2:\n",
    "            if word2 in potential_rhymes:\n",
    "                rhymes.append(x)\n",
    "    rhyme_dict[i] = rhymes"
   ]
  },
  {
   "cell_type": "code",
   "execution_count": 20,
   "metadata": {},
   "outputs": [
    {
     "output_type": "execute_result",
     "data": {
      "text/plain": "{0: [121, 232],\n 1: [16, 28, 66, 78, 131, 174, 189, 255],\n 2: [],\n 3: [44, 94, 157, 338],\n 4: [39, 89, 319],\n 5: [],\n 6: [],\n 7: [1, 28, 51, 78, 111, 131, 189, 255],\n 8: [121, 232],\n 9: [156],\n 10: [156],\n 11: [228],\n 12: [],\n 13: [328, 341],\n 14: [],\n 15: [20, 70, 182],\n 16: [1, 28, 51, 78, 111, 131, 189, 255],\n 17: [277],\n 18: [47, 49, 97, 99, 217, 340, 358, 364],\n 19: [12, 62, 151],\n 20: [],\n 21: [],\n 22: [],\n 23: [],\n 24: [34, 84, 280, 314],\n 25: [277],\n 26: [144, 295, 347],\n 27: [277],\n 28: [1, 16, 51, 66, 111, 131, 174],\n 29: [196],\n 30: [145, 184],\n 31: [44, 94, 157, 338],\n 32: [44, 94, 157, 338],\n 33: [20, 70, 182],\n 34: [24, 74, 208, 314],\n 35: [],\n 36: [],\n 37: [],\n 38: [129, 316],\n 39: [],\n 40: [],\n 41: [138, 188, 335],\n 42: [253],\n 43: [24, 34, 74, 84, 208, 280, 314],\n 44: [31, 81, 157, 169, 268],\n 45: [],\n 46: [291, 310],\n 47: [340],\n 48: [352],\n 49: [340],\n 50: [121, 232],\n 51: [16, 28, 66, 78, 131, 174, 189, 255],\n 52: [],\n 53: [44, 94, 157, 338],\n 54: [39, 89, 319],\n 55: [],\n 56: [],\n 57: [1, 28, 51, 78, 111, 131, 189, 255],\n 58: [121, 232],\n 59: [156],\n 60: [156],\n 61: [228],\n 62: [],\n 63: [328, 341],\n 64: [],\n 65: [20, 70, 182],\n 66: [1, 28, 51, 78, 111, 131, 189, 255],\n 67: [277],\n 68: [47, 49, 97, 99, 217, 340, 358, 364],\n 69: [12, 62, 151],\n 70: [],\n 71: [],\n 72: [],\n 73: [],\n 74: [34, 84, 280, 314],\n 75: [277],\n 76: [144, 295, 347],\n 77: [277],\n 78: [1, 16, 51, 66, 111, 131, 174],\n 79: [196],\n 80: [145, 184],\n 81: [44, 94, 157, 338],\n 82: [44, 94, 157, 338],\n 83: [20, 70, 182],\n 84: [24, 74, 208, 314],\n 85: [],\n 86: [],\n 87: [],\n 88: [129, 316],\n 89: [],\n 90: [],\n 91: [138, 188, 335],\n 92: [253],\n 93: [24, 34, 74, 84, 208, 280, 314],\n 94: [31, 81, 157, 169, 268],\n 95: [],\n 96: [291, 310],\n 97: [340],\n 98: [352],\n 99: [340],\n 100: [],\n 101: [],\n 102: [156],\n 103: [],\n 104: [237, 287, 305],\n 105: [],\n 106: [144, 295, 347],\n 107: [253],\n 108: [],\n 109: [352],\n 110: [121, 232],\n 111: [16, 28, 66, 78, 131, 174, 189, 255],\n 112: [],\n 113: [],\n 114: [138, 188, 335],\n 115: [240, 292],\n 116: [],\n 117: [193, 352],\n 118: [44, 94, 157, 338],\n 119: [138, 188, 335],\n 120: [39, 89, 319],\n 121: [0, 8, 50, 58, 110, 135, 232, 241],\n 122: [],\n 123: [],\n 124: [],\n 125: [333],\n 126: [171],\n 127: [],\n 128: [125, 333],\n 129: [38, 88, 316, 318],\n 130: [],\n 131: [1, 28, 51, 78, 111, 189, 255],\n 132: [],\n 133: [1, 28, 51, 78, 111, 131, 189, 255],\n 134: [],\n 135: [121, 232],\n 136: [352],\n 137: [],\n 138: [188, 335],\n 139: [],\n 140: [1, 16, 28, 51, 66, 78, 111, 131, 174, 255],\n 141: [156],\n 142: [38, 88, 129, 316, 318],\n 143: [12, 62, 151],\n 144: [295, 347],\n 145: [],\n 146: [156],\n 147: [38, 88, 129, 142, 209, 316, 318],\n 148: [228],\n 149: [],\n 150: [],\n 151: [],\n 152: [1, 16, 28, 51, 66, 78, 111, 131, 174, 255],\n 153: [115, 240, 292],\n 154: [],\n 155: [196],\n 156: [],\n 157: [31, 44, 81, 94, 169, 268, 338],\n 158: [352],\n 159: [],\n 160: [138, 188, 335],\n 161: [144, 295, 347],\n 162: [],\n 163: [328, 341],\n 164: [1, 28, 51, 78, 111, 131, 189, 255],\n 165: [],\n 166: [193, 352],\n 167: [],\n 168: [],\n 169: [44, 94, 157, 338],\n 170: [],\n 171: [126],\n 172: [138, 188, 335],\n 173: [20, 70, 182],\n 174: [1, 28, 51, 78, 111, 131, 189, 255],\n 175: [277],\n 176: [47, 49, 97, 99, 217, 340, 358, 364],\n 177: [350]}"
     },
     "metadata": {},
     "execution_count": 20
    }
   ],
   "source": [
    "rhyme_dict"
   ]
  },
  {
   "cell_type": "code",
   "execution_count": 21,
   "metadata": {},
   "outputs": [],
   "source": [
    "# Write generated sonnets to text file\n",
    "sonnet_file = open(\"outputs/sonnets.txt\", \"w+\")\n",
    "NUM_SONNETS = 50\n",
    "for i in range(NUM_SONNETS):\n",
    "    sonnet = conv_sonnet(generate_sonnet(rhyme_dict), line_dict)\n",
    "    sonnet_file.write(sonnet)\n",
    "    sonnet_file.write(\"\\n\")\n",
    "sonnet_file.close()"
   ]
  }
 ],
 "metadata": {
  "language_info": {
   "codemirror_mode": {
    "name": "ipython",
    "version": 3
   },
   "file_extension": ".py",
   "mimetype": "text/x-python",
   "name": "python",
   "nbconvert_exporter": "python",
   "pygments_lexer": "ipython3",
   "version": "3.8.2-final"
  },
  "orig_nbformat": 2,
  "kernelspec": {
   "name": "python38264bitwgcondac15e493b545b42f4a3d80f5b756b304d",
   "display_name": "Python 3.8.2 64-bit ('WG': conda)"
  }
 },
 "nbformat": 4,
 "nbformat_minor": 2
}